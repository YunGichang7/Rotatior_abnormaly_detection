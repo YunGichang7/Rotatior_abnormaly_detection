{
 "cells": [
  {
   "cell_type": "code",
   "execution_count": 1,
   "metadata": {},
   "outputs": [],
   "source": [
    "import os\n",
    "\n",
    "def get_file_paths_in_folders(root_folder, subfolders):\n",
    "    file_paths_lists = {}\n",
    "    for subfolder in subfolders:\n",
    "        folder_path = os.path.join(root_folder, subfolder)\n",
    "        if not os.path.exists(folder_path):\n",
    "            print(f\"폴더 '{subfolder}'가 존재하지 않습니다.\")\n",
    "            continue\n",
    "        file_paths = []\n",
    "        try:\n",
    "            for file_name in os.listdir(folder_path):\n",
    "                file_path = os.path.join(folder_path, file_name)\n",
    "                file_paths.append(file_path)\n",
    "        except Exception as e:\n",
    "            print(f\"폴더 '{subfolder}'의 파일 경로를 가져오는 중 오류 발생: {e}\")\n",
    "        file_paths_lists[subfolder] = file_paths\n",
    "    return file_paths_lists\n",
    "\n",
    "root_folder = '/home/soda/Project/python/notebook/AI_Team3/Data_wav'\n",
    "subfolders = ['Inner Race', 'Misalignment', 'Normal', 'Outer Race', 'Roller']\n",
    "file_paths_lists = get_file_paths_in_folders(root_folder, subfolders)"
   ]
  },
  {
   "cell_type": "code",
   "execution_count": 2,
   "metadata": {},
   "outputs": [],
   "source": [
    "import pyaudio\n",
    "import wave\n",
    "\n",
    "#재생시키고 싶은 파일로 경로 변경 필요\n",
    "file_path = file_paths_lists['Inner Race'][0]\n",
    "\n",
    "w = wave.open(file_path, \"rb\")\n",
    "p = pyaudio.PyAudio()\n",
    "\n",
    "stream = p.open(format=p.get_format_from_width(w.getsampwidth()), channels=w.getnchannels(), rate=w.getframerate(), output=True)\n",
    "\n",
    "data = w.readframes(1024)\n",
    "while len(data) > 0:\n",
    "    stream.write(data)\n",
    "    data = w.readframes(1024)\n",
    "\n",
    "w.close()\n",
    "stream.stop_stream()\n",
    "stream.close()\n",
    "p.terminate()"
   ]
  },
  {
   "cell_type": "code",
   "execution_count": null,
   "metadata": {},
   "outputs": [],
   "source": []
  }
 ],
 "metadata": {
  "kernelspec": {
   "display_name": "Python 3",
   "language": "python",
   "name": "python3"
  },
  "language_info": {
   "codemirror_mode": {
    "name": "ipython",
    "version": 3
   },
   "file_extension": ".py",
   "mimetype": "text/x-python",
   "name": "python",
   "nbconvert_exporter": "python",
   "pygments_lexer": "ipython3",
   "version": "3.6.9"
  }
 },
 "nbformat": 4,
 "nbformat_minor": 4
}
