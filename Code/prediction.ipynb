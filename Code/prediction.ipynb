{
  "nbformat": 4,
  "nbformat_minor": 0,
  "metadata": {
    "colab": {
      "private_outputs": true,
      "provenance": [],
      "gpuType": "T4"
    },
    "kernelspec": {
      "name": "python3",
      "display_name": "Python 3"
    },
    "language_info": {
      "name": "python"
    },
    "accelerator": "GPU"
  },
  "cells": [
    {
      "cell_type": "code",
      "source": [
        "import os\n",
        "import numpy as np\n",
        "import scipy.io as sio\n",
        "import matplotlib.pyplot as plt\n",
        "from sklearn.model_selection import train_test_split\n",
        "from sklearn.preprocessing import StandardScaler\n",
        "from sklearn.svm import SVC\n",
        "from sklearn.metrics import confusion_matrix, classification_report\n",
        "\n",
        "# 데이터 디렉토리 및 클래스 레이블 설정\n",
        "data_dir = '/content/drive/MyDrive/1. 회전기기 고장진단 분야 데이터/Data(프로젝트 데이터)'\n",
        "classes = {\n",
        "    'Normal': 0,\n",
        "    'Inner Race': 1,\n",
        "    'Misalignment': 2,\n",
        "    'Outer Race': 3,\n",
        "    'Roller': 4\n",
        "}\n",
        "\n",
        "data = []\n",
        "labels = []\n",
        "\n",
        "# 파일에서 데이터 로드하여 data와 labels 리스트에 추가\n",
        "for class_name, class_label in classes.items():\n",
        "    class_dir = os.path.join(data_dir, class_name)\n",
        "    for file in os.listdir(class_dir):\n",
        "        if file.endswith('.mat'):\n",
        "            mat_data = sio.loadmat(os.path.join(class_dir, file))\n",
        "            signals = mat_data['signals'][0]\n",
        "            data.append(signals)\n",
        "            labels.append(class_label)\n",
        "\n",
        "data = np.array(data)\n",
        "labels = np.array(labels)\n",
        "\n",
        "# 주파수 도메인 특징 추출 함수 정의\n",
        "def extract_frequency_features(data):\n",
        "    frequency_features = []\n",
        "    for signal in data:\n",
        "        # FFT를 사용하여 주파수 영역으로 변환\n",
        "        fft_result = np.fft.fft(signal)\n",
        "        # 주파수 영역에서 관심 있는 주파수 성분 추출\n",
        "        freq_range = slice(0, 1000)\n",
        "        freq_features = np.abs(fft_result[freq_range])\n",
        "        frequency_features.append(freq_features)\n",
        "    return np.array(frequency_features)\n",
        "\n",
        "# 주파수 도메인 특징 추출\n",
        "frequency_features = extract_frequency_features(data)\n",
        "\n",
        "# 데이터 분할 (학습 데이터와 테스트 데이터로 분리)\n",
        "X_train, X_test, y_train, y_test = train_test_split(frequency_features, labels, test_size=0.2, random_state=42)\n",
        "\n",
        "# 데이터 스케일링 (StandardScaler 사용)\n",
        "scaler = StandardScaler()\n",
        "X_train_scaled = scaler.fit_transform(X_train)\n",
        "X_test_scaled = scaler.transform(X_test)\n",
        "X_scaled = scaler.transform(frequency_features)\n",
        "\n",
        "# SVM 모델 생성\n",
        "svm_model = SVC(kernel='linear', C=1.0)\n",
        "\n",
        "# SVM 모델 학습\n",
        "svm_model.fit(X_scaled, labels)"
      ],
      "metadata": {
        "id": "qPp5pIh8MqtH"
      },
      "execution_count": null,
      "outputs": []
    },
    {
      "cell_type": "code",
      "source": [
        "# Roller 데이터 디렉토리 설정\n",
        "roller_dir = os.path.join() # Test Data 경로 입력\n",
        "\n",
        "# 미래 예측할 데이터 로드하여 frequency domain 특징 추출\n",
        "roller_data = []\n",
        "roller_labels = []\n",
        "\n",
        "for file in os.listdir(roller_dir):\n",
        "    if file.endswith('.mat'):\n",
        "        mat_data = sio.loadmat(os.path.join(roller_dir, file))\n",
        "        signals = mat_data['signals'][0]\n",
        "        roller_data.append(signals)\n",
        "\n",
        "# 주파수 도메인 특징 추출\n",
        "roller_frequency_features = extract_frequency_features(roller_data)\n",
        "\n",
        "# 데이터 스케일링\n",
        "roller_frequency_features_scaled = scaler.transform(roller_frequency_features)\n",
        "\n",
        "# SVM 모델로 라벨 예측\n",
        "predicted_labels = svm_model.predict(roller_frequency_features_scaled)\n",
        "\n",
        "# 예측된 라벨 출력\n",
        "print(predicted_labels)\n"
      ],
      "metadata": {
        "id": "vJzvUsKOID7a"
      },
      "execution_count": null,
      "outputs": []
    },
    {
      "cell_type": "code",
      "source": [],
      "metadata": {
        "id": "ttkDhRxYTY-v"
      },
      "execution_count": null,
      "outputs": []
    }
  ]
}